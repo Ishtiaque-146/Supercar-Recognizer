{
  "cells": [
    {
      "cell_type": "markdown",
      "metadata": {
        "id": "5Ntsgt459Hg-"
      },
      "source": [
        "# Supercar Recognizer\n",
        "The goal of this project is to classify 20 different types of Supercars. The types are following:\n",
        "\n",
        "\n",
        "1. McLaren F1\n",
        "2. Ferrari Enzo\n",
        "3. Ferrari LaFerrari\n",
        "4. McLaren P1\n",
        "5. Porsche 918 Spyder\n",
        "6. Ferrari SF90 Stradale\n",
        "7. Aston Martin Valkyrie\n",
        "8. Rimac Nevera\n",
        "9. Mercedes-AMG One\n",
        "10. Koenigsegg Jesko\n",
        "11. Ferrari Daytona SP3\n",
        "12. Hennessey Venom F5 Roadster\n",
        "13. Koenigsegg Gemera\n",
        "14. Lamborghini Revuelto\n",
        "15. Porsche 911 GT3 RS\n",
        "16.  Zenvo Aurora\n",
        "17. Pagani Zonda\n",
        "18. Ford GT\n",
        "19. Bugatti Chiron\n",
        "20. Lamborghini Aventador"
      ]
    },
    {
      "cell_type": "markdown",
      "metadata": {
        "id": "UArt_Pfd98s0"
      },
      "source": [
        "# Setting Up for Inference"
      ]
    },
    {
      "cell_type": "code",
      "execution_count": 1,
      "metadata": {
        "colab": {
          "base_uri": "https://localhost:8080/"
        },
        "id": "5WqJCIW59Qsi",
        "outputId": "48455cdc-09ec-44b2-b739-55f521a02c74"
      },
      "outputs": [
        {
          "name": "stdout",
          "output_type": "stream",
          "text": [
            "\u001b[2K     \u001b[90m━━━━━━━━━━━━━━━━━━━━━━━━━━━━━━━━━━━━━━━━\u001b[0m \u001b[32m21.3/21.3 MB\u001b[0m \u001b[31m34.1 MB/s\u001b[0m eta \u001b[36m0:00:00\u001b[0m\n",
            "\u001b[?25h"
          ]
        }
      ],
      "source": [
        "!pip install -Uqq fastai"
      ]
    },
    {
      "cell_type": "code",
      "execution_count": 2,
      "metadata": {
        "id": "7WWuAuRB9D41"
      },
      "outputs": [],
      "source": [
        "from fastai.vision.all import *"
      ]
    },
    {
      "cell_type": "code",
      "execution_count": 3,
      "metadata": {
        "colab": {
          "base_uri": "https://localhost:8080/"
        },
        "id": "jguZGJfe9XiU",
        "outputId": "11b509de-4a47-40a0-ebe6-54ad7db414d9"
      },
      "outputs": [
        {
          "name": "stdout",
          "output_type": "stream",
          "text": [
            "Mounted at /content/drive\n"
          ]
        }
      ],
      "source": [
        "from google.colab import drive\n",
        "drive.mount('/content/drive')"
      ]
    },
    {
      "cell_type": "code",
      "execution_count": 4,
      "metadata": {
        "colab": {
          "base_uri": "https://localhost:8080/"
        },
        "id": "0RukwN_X9VVs",
        "outputId": "07c36b34-576c-47bd-b238-6c52039fdcc5"
      },
      "outputs": [
        {
          "name": "stdout",
          "output_type": "stream",
          "text": [
            "/content/drive/My Drive/MasterCourse/Supercar Recognizer\n"
          ]
        }
      ],
      "source": [
        "%cd /content/drive/My Drive/MasterCourse/Supercar Recognizer"
      ]
    },
    {
      "cell_type": "code",
      "execution_count": 5,
      "metadata": {
        "id": "07_0AQim9Srs"
      },
      "outputs": [],
      "source": [
        "version = 2\n",
        "img_path = 'test_images'\n",
        "model_path = f'models/car-recognizer-v{version}.pkl'"
      ]
    },
    {
      "cell_type": "code",
      "execution_count": 8,
      "metadata": {
        "id": "TnH9iP5T9qvs"
      },
      "outputs": [],
      "source": [
        "model = load_learner(model_path)"
      ]
    },
    {
      "cell_type": "markdown",
      "metadata": {
        "id": "dZ6OKMmx98BF"
      },
      "source": [
        "# Inference 1\n",
        "\n",
        "**Target:** Mercedes-AMG One"
      ]
    },
    {
      "cell_type": "code",
      "execution_count": 9,
      "metadata": {
        "colab": {
          "base_uri": "https://localhost:8080/",
          "height": 89
        },
        "id": "5JReTN2L9wBm",
        "outputId": "00faf931-9da3-4bbf-cef9-30346b788353"
      },
      "outputs": [
        {
          "data": {
            "image/png": "[encoded data removed]",
            "text/plain": [
              "<PIL.Image.Image image mode=RGB size=128x72>"
            ]
          },
          "execution_count": 9,
          "metadata": {},
          "output_type": "execute_result"
        }
      ],
      "source": [
        "img = Image.open(f'{img_path}/unknown_00.jpg')\n",
        "img.to_thumb(128,128)"
      ]
    },
    {
      "cell_type": "code",
      "execution_count": 10,
      "metadata": {
        "colab": {
          "base_uri": "https://localhost:8080/",
          "height": 121
        },
        "id": "9BLqvkxd-DxA",
        "outputId": "1b8d4894-1fff-4b27-f703-752b2559cd1c"
      },
      "outputs": [
        {
          "data": {
            "text/html": [
              "\n",
              "<style>\n",
              "    /* Turns off some styling */\n",
              "    progress {\n",
              "        /* gets rid of default border in Firefox and Opera. */\n",
              "        border: none;\n",
              "        /* Needs to be in here for Safari polyfill so background images work as expected. */\n",
              "        background-size: auto;\n",
              "    }\n",
              "    progress:not([value]), progress:not([value])::-webkit-progress-bar {\n",
              "        background: repeating-linear-gradient(45deg, #7e7e7e, #7e7e7e 10px, #5c5c5c 10px, #5c5c5c 20px);\n",
              "    }\n",
              "    .progress-bar-interrupted, .progress-bar-interrupted::-webkit-progress-bar {\n",
              "        background: #F44336;\n",
              "    }\n",
              "</style>\n"
            ],
            "text/plain": [
              "<IPython.core.display.HTML object>"
            ]
          },
          "metadata": {},
          "output_type": "display_data"
        },
        {
          "data": {
            "text/html": [],
            "text/plain": [
              "<IPython.core.display.HTML object>"
            ]
          },
          "metadata": {},
          "output_type": "display_data"
        },
        {
          "data": {
            "text/plain": [
              "('Mercedes-AMG One',\n",
              " tensor(14),\n",
              " tensor([2.8220e-09, 6.2852e-07, 1.0723e-08, 1.4501e-09, 8.7051e-10, 6.6940e-08,\n",
              "         7.8913e-07, 7.4064e-09, 2.5965e-08, 1.9080e-06, 2.4332e-08, 4.9780e-09,\n",
              "         1.6232e-09, 1.6312e-09, 9.9996e-01, 5.1565e-08, 1.1630e-06, 4.4009e-06,\n",
              "         8.6885e-06, 2.5373e-05]))"
            ]
          },
          "execution_count": 10,
          "metadata": {},
          "output_type": "execute_result"
        }
      ],
      "source": [
        "model.predict(f'{img_path}/unknown_00.jpg')"
      ]
    },
    {
      "cell_type": "markdown",
      "metadata": {
        "id": "J2fpSrEU-PKD"
      },
      "source": [
        "# Inference 2\n",
        "\n",
        "**Target:** Porsche 918 Spyder'"
      ]
    },
    {
      "cell_type": "code",
      "execution_count": 11,
      "metadata": {
        "colab": {
          "base_uri": "https://localhost:8080/",
          "height": 102
        },
        "id": "hS5MOe4m-Q6r",
        "outputId": "e747a7e2-257b-4d9b-a2f9-7af56fc9cac4"
      },
      "outputs": [
        {
          "data": {
            "image/png": "[encoded data removed]",
            "text/plain": [
              "<PIL.Image.Image image mode=RGB size=128x85>"
            ]
          },
          "execution_count": 11,
          "metadata": {},
          "output_type": "execute_result"
        }
      ],
      "source": [
        "img = Image.open(f'{img_path}/unknown_01.jpg')\n",
        "img.to_thumb(128,128)"
      ]
    },
    {
      "cell_type": "code",
      "execution_count": 12,
      "metadata": {
        "colab": {
          "base_uri": "https://localhost:8080/",
          "height": 121
        },
        "id": "kmql0BII-SyY",
        "outputId": "36d24191-db15-4b27-ec6b-af9e91311a6b"
      },
      "outputs": [
        {
          "data": {
            "text/html": [
              "\n",
              "<style>\n",
              "    /* Turns off some styling */\n",
              "    progress {\n",
              "        /* gets rid of default border in Firefox and Opera. */\n",
              "        border: none;\n",
              "        /* Needs to be in here for Safari polyfill so background images work as expected. */\n",
              "        background-size: auto;\n",
              "    }\n",
              "    progress:not([value]), progress:not([value])::-webkit-progress-bar {\n",
              "        background: repeating-linear-gradient(45deg, #7e7e7e, #7e7e7e 10px, #5c5c5c 10px, #5c5c5c 20px);\n",
              "    }\n",
              "    .progress-bar-interrupted, .progress-bar-interrupted::-webkit-progress-bar {\n",
              "        background: #F44336;\n",
              "    }\n",
              "</style>\n"
            ],
            "text/plain": [
              "<IPython.core.display.HTML object>"
            ]
          },
          "metadata": {},
          "output_type": "display_data"
        },
        {
          "data": {
            "text/html": [],
            "text/plain": [
              "<IPython.core.display.HTML object>"
            ]
          },
          "metadata": {},
          "output_type": "display_data"
        },
        {
          "data": {
            "text/plain": [
              "('Porsche 918 Spyder',\n",
              " tensor(17),\n",
              " tensor([1.3304e-07, 2.6745e-06, 3.9108e-08, 4.1181e-07, 4.0462e-08, 1.2735e-06,\n",
              "         1.7666e-08, 5.0028e-06, 2.3656e-06, 7.9933e-06, 1.0859e-07, 3.2321e-09,\n",
              "         2.5040e-08, 5.4286e-09, 2.8311e-07, 5.2523e-07, 4.2697e-06, 9.9997e-01,\n",
              "         2.4862e-08, 8.5246e-07]))"
            ]
          },
          "execution_count": 12,
          "metadata": {},
          "output_type": "execute_result"
        }
      ],
      "source": [
        "model.predict(f'{img_path}/unknown_01.jpg')"
      ]
    },
    {
      "cell_type": "markdown",
      "metadata": {
        "id": "ydjMUfaYSq2z"
      },
      "source": [
        "# Inference 3\n",
        "**Target:** Ferrari Daytona SP3"
      ]
    },
    {
      "cell_type": "code",
      "execution_count": 13,
      "metadata": {
        "colab": {
          "base_uri": "https://localhost:8080/",
          "height": 89
        },
        "id": "48eESo59S1Bi",
        "outputId": "9575781b-7a62-4fec-d14a-6f998f355381"
      },
      "outputs": [
        {
          "data": {
            "image/png": "[encoded data removed]",
            "text/plain": [
              "<PIL.Image.Image image mode=RGB size=128x72>"
            ]
          },
          "execution_count": 13,
          "metadata": {},
          "output_type": "execute_result"
        }
      ],
      "source": [
        "img = Image.open(f'{img_path}/unknown_02.jpg')\n",
        "img.to_thumb(128,128)"
      ]
    },
    {
      "cell_type": "code",
      "execution_count": 14,
      "metadata": {
        "colab": {
          "base_uri": "https://localhost:8080/",
          "height": 121
        },
        "id": "CMBpIj4vS3IJ",
        "outputId": "a8690055-e07b-4d7e-da0c-a69bff82c81e"
      },
      "outputs": [
        {
          "data": {
            "text/html": [
              "\n",
              "<style>\n",
              "    /* Turns off some styling */\n",
              "    progress {\n",
              "        /* gets rid of default border in Firefox and Opera. */\n",
              "        border: none;\n",
              "        /* Needs to be in here for Safari polyfill so background images work as expected. */\n",
              "        background-size: auto;\n",
              "    }\n",
              "    progress:not([value]), progress:not([value])::-webkit-progress-bar {\n",
              "        background: repeating-linear-gradient(45deg, #7e7e7e, #7e7e7e 10px, #5c5c5c 10px, #5c5c5c 20px);\n",
              "    }\n",
              "    .progress-bar-interrupted, .progress-bar-interrupted::-webkit-progress-bar {\n",
              "        background: #F44336;\n",
              "    }\n",
              "</style>\n"
            ],
            "text/plain": [
              "<IPython.core.display.HTML object>"
            ]
          },
          "metadata": {},
          "output_type": "display_data"
        },
        {
          "data": {
            "text/html": [],
            "text/plain": [
              "<IPython.core.display.HTML object>"
            ]
          },
          "metadata": {},
          "output_type": "display_data"
        },
        {
          "data": {
            "text/plain": [
              "('Ferrari Daytona SP3',\n",
              " tensor(2),\n",
              " tensor([6.0336e-08, 8.5105e-11, 1.0000e+00, 7.9235e-10, 1.2238e-06, 1.3404e-09,\n",
              "         2.2187e-11, 8.7699e-10, 2.6132e-10, 4.5756e-09, 4.5228e-10, 1.4888e-11,\n",
              "         5.4156e-12, 1.2107e-10, 2.0369e-11, 1.1251e-09, 2.3871e-09, 1.1433e-08,\n",
              "         9.7040e-12, 3.5933e-10]))"
            ]
          },
          "execution_count": 14,
          "metadata": {},
          "output_type": "execute_result"
        }
      ],
      "source": [
        "model.predict(f'{img_path}/unknown_02.jpg')"
      ]
    },
    {
      "cell_type": "markdown",
      "metadata": {
        "id": "9bBvk7dPTRKS"
      },
      "source": [
        "# Inference 4\n",
        "**Target:** Aston Martin Valkyrie"
      ]
    },
    {
      "cell_type": "code",
      "execution_count": 16,
      "metadata": {
        "colab": {
          "base_uri": "https://localhost:8080/",
          "height": 89
        },
        "id": "OB_w4TaUTUOa",
        "outputId": "1b45359e-3342-4bbc-c4e8-2898d074bcbc"
      },
      "outputs": [
        {
          "data": {
            "image/png": "[encoded data removed]",
            "text/plain": [
              "<PIL.Image.Image image mode=RGB size=128x72>"
            ]
          },
          "execution_count": 16,
          "metadata": {},
          "output_type": "execute_result"
        }
      ],
      "source": [
        "img = Image.open(f'{img_path}/unknown_03.jpg')\n",
        "img.to_thumb(128,128)"
      ]
    },
    {
      "cell_type": "code",
      "execution_count": 17,
      "metadata": {
        "colab": {
          "base_uri": "https://localhost:8080/",
          "height": 121
        },
        "id": "Qblxq0aATduB",
        "outputId": "e2e0ac48-d90d-40fa-93c3-251fcdcc139d"
      },
      "outputs": [
        {
          "data": {
            "text/html": [
              "\n",
              "<style>\n",
              "    /* Turns off some styling */\n",
              "    progress {\n",
              "        /* gets rid of default border in Firefox and Opera. */\n",
              "        border: none;\n",
              "        /* Needs to be in here for Safari polyfill so background images work as expected. */\n",
              "        background-size: auto;\n",
              "    }\n",
              "    progress:not([value]), progress:not([value])::-webkit-progress-bar {\n",
              "        background: repeating-linear-gradient(45deg, #7e7e7e, #7e7e7e 10px, #5c5c5c 10px, #5c5c5c 20px);\n",
              "    }\n",
              "    .progress-bar-interrupted, .progress-bar-interrupted::-webkit-progress-bar {\n",
              "        background: #F44336;\n",
              "    }\n",
              "</style>\n"
            ],
            "text/plain": [
              "<IPython.core.display.HTML object>"
            ]
          },
          "metadata": {},
          "output_type": "display_data"
        },
        {
          "data": {
            "text/html": [],
            "text/plain": [
              "<IPython.core.display.HTML object>"
            ]
          },
          "metadata": {},
          "output_type": "display_data"
        },
        {
          "data": {
            "text/plain": [
              "('Aston Martin Valkyrie',\n",
              " tensor(0),\n",
              " tensor([1.0000e+00, 5.7548e-11, 1.1317e-09, 8.0621e-10, 1.6841e-09, 9.2106e-10,\n",
              "         5.8003e-10, 8.8775e-08, 3.0812e-10, 8.8640e-09, 8.8299e-11, 3.2821e-09,\n",
              "         3.5290e-09, 5.2881e-10, 3.7128e-10, 9.0387e-10, 2.2711e-12, 1.4313e-09,\n",
              "         1.3307e-10, 4.8011e-09]))"
            ]
          },
          "execution_count": 17,
          "metadata": {},
          "output_type": "execute_result"
        }
      ],
      "source": [
        "model.predict(f'{img_path}/unknown_03.jpg')"
      ]
    }
  ],
  "metadata": {
    "colab": {
      "provenance": []
    },
    "kernelspec": {
      "display_name": "Python 3",
      "name": "python3"
    },
    "language_info": {
      "name": "python"
    }
  },
  "nbformat": 4,
  "nbformat_minor": 0
}
